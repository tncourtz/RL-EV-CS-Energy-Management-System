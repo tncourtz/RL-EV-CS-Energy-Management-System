{
  "nbformat": 4,
  "nbformat_minor": 0,
  "metadata": {
    "colab": {
      "name": "PSO.ipynb",
      "provenance": [],
      "include_colab_link": true
    },
    "kernelspec": {
      "name": "python3",
      "display_name": "Python 3"
    }
  },
  "cells": [
    {
      "cell_type": "markdown",
      "metadata": {
        "id": "view-in-github",
        "colab_type": "text"
      },
      "source": [
        "<a href=\"https://colab.research.google.com/github/tncourtz/RL-EV-CS-Energy-Management-System/blob/main/PSO.ipynb\" target=\"_parent\"><img src=\"https://colab.research.google.com/assets/colab-badge.svg\" alt=\"Open In Colab\"/></a>"
      ]
    },
    {
      "cell_type": "code",
      "metadata": {
        "id": "8mkpGKGD9re_",
        "outputId": "38bb2c85-03eb-411e-a5c7-68a099cc814a",
        "colab": {
          "resources": {
            "http://localhost:8080/nbextensions/google.colab/files.js": {
              "data": "Ly8gQ29weXJpZ2h0IDIwMTcgR29vZ2xlIExMQwovLwovLyBMaWNlbnNlZCB1bmRlciB0aGUgQXBhY2hlIExpY2Vuc2UsIFZlcnNpb24gMi4wICh0aGUgIkxpY2Vuc2UiKTsKLy8geW91IG1heSBub3QgdXNlIHRoaXMgZmlsZSBleGNlcHQgaW4gY29tcGxpYW5jZSB3aXRoIHRoZSBMaWNlbnNlLgovLyBZb3UgbWF5IG9idGFpbiBhIGNvcHkgb2YgdGhlIExpY2Vuc2UgYXQKLy8KLy8gICAgICBodHRwOi8vd3d3LmFwYWNoZS5vcmcvbGljZW5zZXMvTElDRU5TRS0yLjAKLy8KLy8gVW5sZXNzIHJlcXVpcmVkIGJ5IGFwcGxpY2FibGUgbGF3IG9yIGFncmVlZCB0byBpbiB3cml0aW5nLCBzb2Z0d2FyZQovLyBkaXN0cmlidXRlZCB1bmRlciB0aGUgTGljZW5zZSBpcyBkaXN0cmlidXRlZCBvbiBhbiAiQVMgSVMiIEJBU0lTLAovLyBXSVRIT1VUIFdBUlJBTlRJRVMgT1IgQ09ORElUSU9OUyBPRiBBTlkgS0lORCwgZWl0aGVyIGV4cHJlc3Mgb3IgaW1wbGllZC4KLy8gU2VlIHRoZSBMaWNlbnNlIGZvciB0aGUgc3BlY2lmaWMgbGFuZ3VhZ2UgZ292ZXJuaW5nIHBlcm1pc3Npb25zIGFuZAovLyBsaW1pdGF0aW9ucyB1bmRlciB0aGUgTGljZW5zZS4KCi8qKgogKiBAZmlsZW92ZXJ2aWV3IEhlbHBlcnMgZm9yIGdvb2dsZS5jb2xhYiBQeXRob24gbW9kdWxlLgogKi8KKGZ1bmN0aW9uKHNjb3BlKSB7CmZ1bmN0aW9uIHNwYW4odGV4dCwgc3R5bGVBdHRyaWJ1dGVzID0ge30pIHsKICBjb25zdCBlbGVtZW50ID0gZG9jdW1lbnQuY3JlYXRlRWxlbWVudCgnc3BhbicpOwogIGVsZW1lbnQudGV4dENvbnRlbnQgPSB0ZXh0OwogIGZvciAoY29uc3Qga2V5IG9mIE9iamVjdC5rZXlzKHN0eWxlQXR0cmlidXRlcykpIHsKICAgIGVsZW1lbnQuc3R5bGVba2V5XSA9IHN0eWxlQXR0cmlidXRlc1trZXldOwogIH0KICByZXR1cm4gZWxlbWVudDsKfQoKLy8gTWF4IG51bWJlciBvZiBieXRlcyB3aGljaCB3aWxsIGJlIHVwbG9hZGVkIGF0IGEgdGltZS4KY29uc3QgTUFYX1BBWUxPQURfU0laRSA9IDEwMCAqIDEwMjQ7CgpmdW5jdGlvbiBfdXBsb2FkRmlsZXMoaW5wdXRJZCwgb3V0cHV0SWQpIHsKICBjb25zdCBzdGVwcyA9IHVwbG9hZEZpbGVzU3RlcChpbnB1dElkLCBvdXRwdXRJZCk7CiAgY29uc3Qgb3V0cHV0RWxlbWVudCA9IGRvY3VtZW50LmdldEVsZW1lbnRCeUlkKG91dHB1dElkKTsKICAvLyBDYWNoZSBzdGVwcyBvbiB0aGUgb3V0cHV0RWxlbWVudCB0byBtYWtlIGl0IGF2YWlsYWJsZSBmb3IgdGhlIG5leHQgY2FsbAogIC8vIHRvIHVwbG9hZEZpbGVzQ29udGludWUgZnJvbSBQeXRob24uCiAgb3V0cHV0RWxlbWVudC5zdGVwcyA9IHN0ZXBzOwoKICByZXR1cm4gX3VwbG9hZEZpbGVzQ29udGludWUob3V0cHV0SWQpOwp9CgovLyBUaGlzIGlzIHJvdWdobHkgYW4gYXN5bmMgZ2VuZXJhdG9yIChub3Qgc3VwcG9ydGVkIGluIHRoZSBicm93c2VyIHlldCksCi8vIHdoZXJlIHRoZXJlIGFyZSBtdWx0aXBsZSBhc3luY2hyb25vdXMgc3RlcHMgYW5kIHRoZSBQeXRob24gc2lkZSBpcyBnb2luZwovLyB0byBwb2xsIGZvciBjb21wbGV0aW9uIG9mIGVhY2ggc3RlcC4KLy8gVGhpcyB1c2VzIGEgUHJvbWlzZSB0byBibG9jayB0aGUgcHl0aG9uIHNpZGUgb24gY29tcGxldGlvbiBvZiBlYWNoIHN0ZXAsCi8vIHRoZW4gcGFzc2VzIHRoZSByZXN1bHQgb2YgdGhlIHByZXZpb3VzIHN0ZXAgYXMgdGhlIGlucHV0IHRvIHRoZSBuZXh0IHN0ZXAuCmZ1bmN0aW9uIF91cGxvYWRGaWxlc0NvbnRpbnVlKG91dHB1dElkKSB7CiAgY29uc3Qgb3V0cHV0RWxlbWVudCA9IGRvY3VtZW50LmdldEVsZW1lbnRCeUlkKG91dHB1dElkKTsKICBjb25zdCBzdGVwcyA9IG91dHB1dEVsZW1lbnQuc3RlcHM7CgogIGNvbnN0IG5leHQgPSBzdGVwcy5uZXh0KG91dHB1dEVsZW1lbnQubGFzdFByb21pc2VWYWx1ZSk7CiAgcmV0dXJuIFByb21pc2UucmVzb2x2ZShuZXh0LnZhbHVlLnByb21pc2UpLnRoZW4oKHZhbHVlKSA9PiB7CiAgICAvLyBDYWNoZSB0aGUgbGFzdCBwcm9taXNlIHZhbHVlIHRvIG1ha2UgaXQgYXZhaWxhYmxlIHRvIHRoZSBuZXh0CiAgICAvLyBzdGVwIG9mIHRoZSBnZW5lcmF0b3IuCiAgICBvdXRwdXRFbGVtZW50Lmxhc3RQcm9taXNlVmFsdWUgPSB2YWx1ZTsKICAgIHJldHVybiBuZXh0LnZhbHVlLnJlc3BvbnNlOwogIH0pOwp9CgovKioKICogR2VuZXJhdG9yIGZ1bmN0aW9uIHdoaWNoIGlzIGNhbGxlZCBiZXR3ZWVuIGVhY2ggYXN5bmMgc3RlcCBvZiB0aGUgdXBsb2FkCiAqIHByb2Nlc3MuCiAqIEBwYXJhbSB7c3RyaW5nfSBpbnB1dElkIEVsZW1lbnQgSUQgb2YgdGhlIGlucHV0IGZpbGUgcGlja2VyIGVsZW1lbnQuCiAqIEBwYXJhbSB7c3RyaW5nfSBvdXRwdXRJZCBFbGVtZW50IElEIG9mIHRoZSBvdXRwdXQgZGlzcGxheS4KICogQHJldHVybiB7IUl0ZXJhYmxlPCFPYmplY3Q+fSBJdGVyYWJsZSBvZiBuZXh0IHN0ZXBzLgogKi8KZnVuY3Rpb24qIHVwbG9hZEZpbGVzU3RlcChpbnB1dElkLCBvdXRwdXRJZCkgewogIGNvbnN0IGlucHV0RWxlbWVudCA9IGRvY3VtZW50LmdldEVsZW1lbnRCeUlkKGlucHV0SWQpOwogIGlucHV0RWxlbWVudC5kaXNhYmxlZCA9IGZhbHNlOwoKICBjb25zdCBvdXRwdXRFbGVtZW50ID0gZG9jdW1lbnQuZ2V0RWxlbWVudEJ5SWQob3V0cHV0SWQpOwogIG91dHB1dEVsZW1lbnQuaW5uZXJIVE1MID0gJyc7CgogIGNvbnN0IHBpY2tlZFByb21pc2UgPSBuZXcgUHJvbWlzZSgocmVzb2x2ZSkgPT4gewogICAgaW5wdXRFbGVtZW50LmFkZEV2ZW50TGlzdGVuZXIoJ2NoYW5nZScsIChlKSA9PiB7CiAgICAgIHJlc29sdmUoZS50YXJnZXQuZmlsZXMpOwogICAgfSk7CiAgfSk7CgogIGNvbnN0IGNhbmNlbCA9IGRvY3VtZW50LmNyZWF0ZUVsZW1lbnQoJ2J1dHRvbicpOwogIGlucHV0RWxlbWVudC5wYXJlbnRFbGVtZW50LmFwcGVuZENoaWxkKGNhbmNlbCk7CiAgY2FuY2VsLnRleHRDb250ZW50ID0gJ0NhbmNlbCB1cGxvYWQnOwogIGNvbnN0IGNhbmNlbFByb21pc2UgPSBuZXcgUHJvbWlzZSgocmVzb2x2ZSkgPT4gewogICAgY2FuY2VsLm9uY2xpY2sgPSAoKSA9PiB7CiAgICAgIHJlc29sdmUobnVsbCk7CiAgICB9OwogIH0pOwoKICAvLyBXYWl0IGZvciB0aGUgdXNlciB0byBwaWNrIHRoZSBmaWxlcy4KICBjb25zdCBmaWxlcyA9IHlpZWxkIHsKICAgIHByb21pc2U6IFByb21pc2UucmFjZShbcGlja2VkUHJvbWlzZSwgY2FuY2VsUHJvbWlzZV0pLAogICAgcmVzcG9uc2U6IHsKICAgICAgYWN0aW9uOiAnc3RhcnRpbmcnLAogICAgfQogIH07CgogIGNhbmNlbC5yZW1vdmUoKTsKCiAgLy8gRGlzYWJsZSB0aGUgaW5wdXQgZWxlbWVudCBzaW5jZSBmdXJ0aGVyIHBpY2tzIGFyZSBub3QgYWxsb3dlZC4KICBpbnB1dEVsZW1lbnQuZGlzYWJsZWQgPSB0cnVlOwoKICBpZiAoIWZpbGVzKSB7CiAgICByZXR1cm4gewogICAgICByZXNwb25zZTogewogICAgICAgIGFjdGlvbjogJ2NvbXBsZXRlJywKICAgICAgfQogICAgfTsKICB9CgogIGZvciAoY29uc3QgZmlsZSBvZiBmaWxlcykgewogICAgY29uc3QgbGkgPSBkb2N1bWVudC5jcmVhdGVFbGVtZW50KCdsaScpOwogICAgbGkuYXBwZW5kKHNwYW4oZmlsZS5uYW1lLCB7Zm9udFdlaWdodDogJ2JvbGQnfSkpOwogICAgbGkuYXBwZW5kKHNwYW4oCiAgICAgICAgYCgke2ZpbGUudHlwZSB8fCAnbi9hJ30pIC0gJHtmaWxlLnNpemV9IGJ5dGVzLCBgICsKICAgICAgICBgbGFzdCBtb2RpZmllZDogJHsKICAgICAgICAgICAgZmlsZS5sYXN0TW9kaWZpZWREYXRlID8gZmlsZS5sYXN0TW9kaWZpZWREYXRlLnRvTG9jYWxlRGF0ZVN0cmluZygpIDoKICAgICAgICAgICAgICAgICAgICAgICAgICAgICAgICAgICAgJ24vYSd9IC0gYCkpOwogICAgY29uc3QgcGVyY2VudCA9IHNwYW4oJzAlIGRvbmUnKTsKICAgIGxpLmFwcGVuZENoaWxkKHBlcmNlbnQpOwoKICAgIG91dHB1dEVsZW1lbnQuYXBwZW5kQ2hpbGQobGkpOwoKICAgIGNvbnN0IGZpbGVEYXRhUHJvbWlzZSA9IG5ldyBQcm9taXNlKChyZXNvbHZlKSA9PiB7CiAgICAgIGNvbnN0IHJlYWRlciA9IG5ldyBGaWxlUmVhZGVyKCk7CiAgICAgIHJlYWRlci5vbmxvYWQgPSAoZSkgPT4gewogICAgICAgIHJlc29sdmUoZS50YXJnZXQucmVzdWx0KTsKICAgICAgfTsKICAgICAgcmVhZGVyLnJlYWRBc0FycmF5QnVmZmVyKGZpbGUpOwogICAgfSk7CiAgICAvLyBXYWl0IGZvciB0aGUgZGF0YSB0byBiZSByZWFkeS4KICAgIGxldCBmaWxlRGF0YSA9IHlpZWxkIHsKICAgICAgcHJvbWlzZTogZmlsZURhdGFQcm9taXNlLAogICAgICByZXNwb25zZTogewogICAgICAgIGFjdGlvbjogJ2NvbnRpbnVlJywKICAgICAgfQogICAgfTsKCiAgICAvLyBVc2UgYSBjaHVua2VkIHNlbmRpbmcgdG8gYXZvaWQgbWVzc2FnZSBzaXplIGxpbWl0cy4gU2VlIGIvNjIxMTU2NjAuCiAgICBsZXQgcG9zaXRpb24gPSAwOwogICAgd2hpbGUgKHBvc2l0aW9uIDwgZmlsZURhdGEuYnl0ZUxlbmd0aCkgewogICAgICBjb25zdCBsZW5ndGggPSBNYXRoLm1pbihmaWxlRGF0YS5ieXRlTGVuZ3RoIC0gcG9zaXRpb24sIE1BWF9QQVlMT0FEX1NJWkUpOwogICAgICBjb25zdCBjaHVuayA9IG5ldyBVaW50OEFycmF5KGZpbGVEYXRhLCBwb3NpdGlvbiwgbGVuZ3RoKTsKICAgICAgcG9zaXRpb24gKz0gbGVuZ3RoOwoKICAgICAgY29uc3QgYmFzZTY0ID0gYnRvYShTdHJpbmcuZnJvbUNoYXJDb2RlLmFwcGx5KG51bGwsIGNodW5rKSk7CiAgICAgIHlpZWxkIHsKICAgICAgICByZXNwb25zZTogewogICAgICAgICAgYWN0aW9uOiAnYXBwZW5kJywKICAgICAgICAgIGZpbGU6IGZpbGUubmFtZSwKICAgICAgICAgIGRhdGE6IGJhc2U2NCwKICAgICAgICB9LAogICAgICB9OwogICAgICBwZXJjZW50LnRleHRDb250ZW50ID0KICAgICAgICAgIGAke01hdGgucm91bmQoKHBvc2l0aW9uIC8gZmlsZURhdGEuYnl0ZUxlbmd0aCkgKiAxMDApfSUgZG9uZWA7CiAgICB9CiAgfQoKICAvLyBBbGwgZG9uZS4KICB5aWVsZCB7CiAgICByZXNwb25zZTogewogICAgICBhY3Rpb246ICdjb21wbGV0ZScsCiAgICB9CiAgfTsKfQoKc2NvcGUuZ29vZ2xlID0gc2NvcGUuZ29vZ2xlIHx8IHt9OwpzY29wZS5nb29nbGUuY29sYWIgPSBzY29wZS5nb29nbGUuY29sYWIgfHwge307CnNjb3BlLmdvb2dsZS5jb2xhYi5fZmlsZXMgPSB7CiAgX3VwbG9hZEZpbGVzLAogIF91cGxvYWRGaWxlc0NvbnRpbnVlLAp9Owp9KShzZWxmKTsK",
              "ok": true,
              "headers": [
                [
                  "content-type",
                  "application/javascript"
                ]
              ],
              "status": 200,
              "status_text": ""
            }
          },
          "base_uri": "https://localhost:8080/",
          "height": 72
        }
      },
      "source": [
        "from google.colab import files\n",
        "uploaded = files.upload()"
      ],
      "execution_count": null,
      "outputs": [
        {
          "output_type": "display_data",
          "data": {
            "text/html": [
              "\n",
              "     <input type=\"file\" id=\"files-bc9642f6-7167-4223-8b88-7e7e79270ba0\" name=\"files[]\" multiple disabled\n",
              "        style=\"border:none\" />\n",
              "     <output id=\"result-bc9642f6-7167-4223-8b88-7e7e79270ba0\">\n",
              "      Upload widget is only available when the cell has been executed in the\n",
              "      current browser session. Please rerun this cell to enable.\n",
              "      </output>\n",
              "      <script src=\"/nbextensions/google.colab/files.js\"></script> "
            ],
            "text/plain": [
              "<IPython.core.display.HTML object>"
            ]
          },
          "metadata": {
            "tags": []
          }
        },
        {
          "output_type": "stream",
          "text": [
            "Saving trading_data.xlsx to trading_data.xlsx\n"
          ],
          "name": "stdout"
        }
      ]
    },
    {
      "cell_type": "code",
      "metadata": {
        "id": "IU9xBil-921N"
      },
      "source": [
        "from pandas import read_excel\n",
        "df = read_excel('trading_data.xlsx')\n",
        "\n",
        "PVt= df['pv'].values\n",
        "PLt = df['load'].values\n",
        "GTt = df['gt'].values"
      ],
      "execution_count": null,
      "outputs": []
    },
    {
      "cell_type": "markdown",
      "metadata": {
        "id": "iIpZiq0Jijh3"
      },
      "source": [
        "# **24-hour PSO**"
      ]
    },
    {
      "cell_type": "code",
      "metadata": {
        "id": "l7TXQXGaim7N"
      },
      "source": [
        ""
      ],
      "execution_count": null,
      "outputs": []
    },
    {
      "cell_type": "code",
      "metadata": {
        "id": "PO7K1JvcnWxQ"
      },
      "source": [
        "from __future__ import division\n",
        "import random\n",
        "import numpy as np \n",
        "from math import exp\n",
        "import matplotlib.pyplot as plt\n",
        "import math\n",
        "\n",
        "\n",
        "W = 2\n",
        "c1 = 0.5\n",
        "c2 = 0.5\n",
        "\n",
        "n_iterations = int(input(\"Inform the number of iterations: \"))     #number of iterations\n",
        "n_particles = int(input(\"Inform the number of particles: \"))       #number of iterations\n",
        "\n",
        "class Particle():\n",
        "    def __init__(self, n_particles, first):\n",
        "      if first == 1:\n",
        "        self.position = np.array(0.5)\n",
        "      else:\n",
        "        self.position = np.random.uniform(low=0.1, high=0.9, size=1)       #initialize a soc particle between constraints\n",
        "\n",
        "      self.pbest_position = self.position.copy()                          #initialize best particle value\n",
        "      self.pbest_value = float('inf')                                     # intialize the best value to a large number\n",
        "      self.velocity = np.array(0)                                         #initialize the velocity of the particle\n",
        "      self.PG = 0\n",
        "      self.PB = 0 \n",
        "\n",
        "    #print postion\n",
        "    def __str__(self):\n",
        "        print(\"Current Position\", self.position, \" Best Position \", self.pbest_position)\n",
        "    #use velocity to move the particle\n",
        "    def move(self):\n",
        "        self.position = self.position + self.velocity\n",
        "              # adjust maximum position if necessary\n",
        "        if self.position > 0.9:\n",
        "          self.position = 0.9\n",
        "\n",
        "      # adjust minimum position if neseccary\n",
        "        if self.position < 0.1:\n",
        "          self.position = 0.1\n",
        "\n",
        "###############################################################################################################################\n",
        "class Space():\n",
        "    def __init__(self, n_particles):\n",
        "        self.n_particles = n_particles\n",
        "        self.particles = []\n",
        "        self.gbest_value = float('inf')                                       #best global value\n",
        "        self.gbest_position = 0.5      #best global position\n",
        "        self.Cost = []\n",
        "        self.is_Best = False\n",
        "        self.plchld = Particle(1,1)\n",
        "\n",
        "    def print_particles(self):\n",
        "        for particle in self.particles:\n",
        "            particle.__str__()\n",
        "    \n",
        "    # cost function\n",
        "    def fitness(self, particle, GT, PV, PL): #GT,PV, PL are from arrays of the 24h grid prices, pv, and load\n",
        "        #Variables \n",
        "        plch = self.plchld\n",
        "        Q = 100                               # (kwh) battery full capacity\n",
        "        Tamb = 23                            #ambient temperature\n",
        "        Rth = 0.0002                          # battery thermal resistance\n",
        "        # model parameters\n",
        "        a = 1.434\n",
        "        b = 48.808\n",
        "        m = 3.185\n",
        "        d = 0.0768\n",
        "        Yhr = 8760                           # hours per year\n",
        "        Cbat = 200                           # initial battery cost \n",
        "\n",
        "        SOCmin = 0.1\n",
        "        SOCmax = 0.9\n",
        "        SOCinit = 0.5\n",
        "        Pbmin = -18\n",
        "        Pbmax = 18\n",
        "        Pgmin = -24\n",
        "        Pgmax = 24\n",
        "\n",
        "        #SYSTEM DYNAMICS\n",
        "        dt =1\n",
        "        Pb = (-particle.position+plch.position)*Q                          # battery power #-plch.position\n",
        "        if Pb < -75:\n",
        "          Pb = -75\n",
        "        if Pb > 75:\n",
        "          Pb = 75\n",
        "\n",
        "        Pg = PL - PV - Pb                                 #grid suppled power\n",
        "        if Pg < -100:\n",
        "          Pg = -100\n",
        "        if Pg > 150:\n",
        "          Pg = 150\n",
        "\n",
        "        T = Tamb + Rth*abs(Pb)*1000                            # battery temperature \n",
        "        L = a*exp(b/T)                                # battery lifetime \n",
        "        SOCavg = particle.position                        # average SOC ?what is the avg. soc\n",
        "        DOD = particle.position                           # battery depth of discharge\n",
        "\n",
        "        #COST FUNCTIONS\n",
        "        Cg = GT*Pg*dt                                     # grid running cost\n",
        "        Ctemp = Cbat*dt/(Yhr*L)                           # Temperature operation cost\n",
        "        Csoc = (Cbat*m*SOCavg-d)/(15*0.2*Yhr)             # Cost due to avgSOC \n",
        "        Cdod = (-0.012*DOD**4) + (0.033*DOD**3) + (0.021*DOD**2) - (0.056*DOD) # cost due to dod\n",
        "        Cbd = max(Ctemp, Cdod, Csoc)                      # total battery degradation cost \n",
        "        total = Cg + Pb*dt*Cbd\n",
        "        self.plchld = particle\n",
        "        return    total, Pg, Pb                          # total system cost\n",
        "\n",
        "    # find the best position for the particles\n",
        "    def set_pbest(self ,particle, GT, PV, PL):\n",
        "        # for particle in self.particles:\n",
        "            # i = self.particles.index(particle)              # indexing \n",
        "        is_Best = False\n",
        "        fitness_cand, pg, pb = self.fitness(particle, GT, PV, PL)\n",
        "        if(particle.pbest_value > fitness_cand):\n",
        "            particle.pbest_value = fitness_cand\n",
        "            particle.pbest_position = particle.position\n",
        "            particle.PG = pg\n",
        "            particle.PB = pb\n",
        "            is_Best = True\n",
        "        return is_Best\n",
        "            \n",
        "    # find best global position for particles\n",
        "    def set_gbest(self ,particle, GT, PV, PL):\n",
        "        # for particle in self.particles:\n",
        "            # i = self.particles.index(particle)\n",
        "        best_fitness_cand, pg, pb = self.fitness(particle, GT, PV, PL)\n",
        "        if(self.gbest_value > best_fitness_cand):\n",
        "            self.gbest_value = best_fitness_cand\n",
        "            self.gbest_position = particle.position\n",
        "    \n",
        "    #move particles\n",
        "    def move_particles(self, particle):\n",
        "        # for particle in self.particles:\n",
        "      global W\n",
        "      new_velocity = (W*particle.velocity) + (c1*random.random()) * (particle.pbest_position - particle.position) + \\\n",
        "                      (random.random()*c2) * (self.gbest_position - particle.position)\n",
        "      particle.velocity = new_velocity\n",
        "      particle.move()\n",
        "      return particle\n",
        "\n",
        "#############################################################################################################################\n",
        "#IMPLEMENTATION OF PSO ALGO.\n",
        "iteration = 0\n",
        "sss = np.zeros(24)\n",
        "pg = np.zeros(24)\n",
        "pb = np.zeros(24)\n",
        "the = np.zeros(24)\n",
        "\n",
        "while(iteration < n_iterations):\n",
        "  # if iteration == 0:\n",
        "  search_space = Space(n_particles)\n",
        "  particles_vector = np.concatenate(([Particle(1, 1)], [Particle(n_particles-1, 0) for i in range(search_space.n_particles-1)]), axis=None)\n",
        "  search_space.particles = particles_vector\n",
        "  the = particles_vector\n",
        "  search_space.print_particles()\n",
        "  # else: \n",
        "  #   search_space.particles = the\n",
        "  #   search_space.print_particles()\n",
        "\n",
        "  for i in range(24):\n",
        "    part = search_space.particles[i]\n",
        "    # search_space.set_pbest(part,GTt[i], PVt[i], PLt[i]) \n",
        "    is_best = search_space.set_pbest(part,GTt[i], PVt[i], PLt[i])\n",
        "    search_space.set_gbest(part, GTt[i], PVt[i], PLt[i])\n",
        "    search_space.move_particles(part)\n",
        "    yy = search_space.move_particles(part)\n",
        "    sss[i] = (part.pbest_position)\n",
        "    pg[i] = part.PG\n",
        "    pb[i] = part.PB\n",
        "    # print(is_best)\n",
        "    # if is_best:\n",
        "    #   # print(the)\n",
        "    #   the[i] = yy\n",
        "  iteration += 1\n",
        "    \n",
        "print(\"The best solution is: \", sss, \" in n_iterations: \", iteration)\n",
        "print(pg)\n",
        "print(pb)"
      ],
      "execution_count": null,
      "outputs": []
    },
    {
      "cell_type": "markdown",
      "metadata": {
        "id": "MVn9i1ESjoM6"
      },
      "source": [
        "# **Plots and Calculations**"
      ]
    },
    {
      "cell_type": "code",
      "metadata": {
        "id": "QBzYAwgw9AjK"
      },
      "source": [
        "tt = sss\n",
        "soc = []\n",
        "for i in range(len(tt)):\n",
        "  soc.append(tt[i])\n",
        "print(soc)\n",
        "t = np.arange(0, len(tt))\n",
        "plt.plot(t, tt)"
      ],
      "execution_count": null,
      "outputs": []
    },
    {
      "cell_type": "code",
      "metadata": {
        "id": "6OKu7JfhUwOP"
      },
      "source": [
        "tt2 = pg\n",
        "g = []\n",
        "for i in range(len(tt2)):\n",
        "  g.append(tt2[i])\n",
        "print(g)\n",
        "t = np.arange(0, len(tt2))\n",
        "plt.plot(t, tt2)"
      ],
      "execution_count": null,
      "outputs": []
    },
    {
      "cell_type": "code",
      "metadata": {
        "id": "MpEXABtQU3Bm"
      },
      "source": [
        "tt = pb\n",
        "b = []\n",
        "for i in range(len(tt)):\n",
        "  b.append(tt[i])\n",
        "print(b)\n",
        "t = np.arange(0, len(tt))\n",
        "plt.plot(t, tt)"
      ],
      "execution_count": null,
      "outputs": []
    },
    {
      "cell_type": "code",
      "metadata": {
        "id": "Harj_WQ5Qj58",
        "outputId": "8f90dc17-55b6-4f1a-f3c5-370706416fe7",
        "colab": {
          "base_uri": "https://localhost:8080/"
        }
      },
      "source": [
        "\n",
        "L=0\n",
        "f=[]\n",
        "for i in range(24):\n",
        "  # L += Pb[i]\n",
        "  T = 23+ 0.0002*abs(pb[i])*1000\n",
        "  L += 1.434*exp(48.808/T)\n",
        "L = L/24\n",
        "print(L)"
      ],
      "execution_count": null,
      "outputs": [
        {
          "output_type": "stream",
          "text": [
            "8.926996338131522\n"
          ],
          "name": "stdout"
        }
      ]
    },
    {
      "cell_type": "code",
      "metadata": {
        "id": "AXb99--vQu6H",
        "outputId": "52398e20-f96b-4bd9-96cf-b13f2764e04b",
        "colab": {
          "base_uri": "https://localhost:8080/"
        }
      },
      "source": [
        "cost = 0\n",
        "for i in range(len(pg)):\n",
        "  cost += GTt[i]*pg[i]\n",
        "\n",
        "print(cost)"
      ],
      "execution_count": null,
      "outputs": [
        {
          "output_type": "stream",
          "text": [
            "86.71272971238976\n"
          ],
          "name": "stdout"
        }
      ]
    }
  ]
}