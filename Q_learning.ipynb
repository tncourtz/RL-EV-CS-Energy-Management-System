{
  "nbformat": 4,
  "nbformat_minor": 0,
  "metadata": {
    "colab": {
      "name": "Q-learning.ipynb",
      "provenance": [],
      "collapsed_sections": [],
      "include_colab_link": true
    },
    "kernelspec": {
      "name": "python3",
      "display_name": "Python 3"
    }
  },
  "cells": [
    {
      "cell_type": "markdown",
      "metadata": {
        "id": "view-in-github",
        "colab_type": "text"
      },
      "source": [
        "<a href=\"https://colab.research.google.com/github/tncourtz/RL-EV-CS-Energy-Management-System/blob/main/Q_learning.ipynb\" target=\"_parent\"><img src=\"https://colab.research.google.com/assets/colab-badge.svg\" alt=\"Open In Colab\"/></a>"
      ]
    },
    {
      "cell_type": "markdown",
      "metadata": {
        "id": "Xq7Puw8IT1Fi"
      },
      "source": [
        "# **The Q-Network**"
      ]
    },
    {
      "cell_type": "code",
      "metadata": {
        "id": "UTsklfm-uiXc"
      },
      "source": [
        "#import neccessary modules \n",
        "import numpy as np\n",
        "import random\n",
        "from IPython.display import clear_output\n",
        "from collections import deque\n",
        "import progressbar\n",
        "import gym\n",
        "from gym import wrappers\n",
        "import collections\n",
        "from tensorflow.keras import Model, Sequential\n",
        "from tensorflow.keras.layers import Dense, Embedding, Reshape\n",
        "from tensorflow.keras.optimizers import Adam\n",
        "import tensorflow as tf\n",
        "import matplotlib.pyplot as plt\n",
        "%matplotlib inline"
      ],
      "execution_count": null,
      "outputs": []
    },
    {
      "cell_type": "markdown",
      "metadata": {
        "id": "p3nUapGcGviK"
      },
      "source": [
        "# **Q-learning Implementation**"
      ]
    },
    {
      "cell_type": "code",
      "metadata": {
        "id": "Dpn5bW1iHYUI"
      },
      "source": [
        "import numpy as np\n",
        "\n",
        "gamma = 0.99      #discount factor\n",
        "alpha = 0.01       # learning rate\n",
        "e = 1             #e-greedy "
      ],
      "execution_count": null,
      "outputs": []
    },
    {
      "cell_type": "code",
      "metadata": {
        "id": "t0gdDWtlG476"
      },
      "source": [
        "#intialize Q-value table \n",
        "Q = np.array(np.zeros([24, 10]))\n",
        "R = np.array(np.zeros([24, 10]))"
      ],
      "execution_count": null,
      "outputs": []
    },
    {
      "cell_type": "markdown",
      "metadata": {
        "id": "rAr2wX3PwXy1"
      },
      "source": [
        "# skip"
      ]
    },
    {
      "cell_type": "code",
      "metadata": {
        "id": "9L51B6CP3Kvg",
        "outputId": "f13bd67d-f656-40fe-aab7-3094f51a97b2",
        "colab": {
          "resources": {
            "http://localhost:8080/nbextensions/google.colab/files.js": {
              "data": "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",
              "ok": true,
              "headers": [
                [
                  "content-type",
                  "application/javascript"
                ]
              ],
              "status": 200,
              "status_text": ""
            }
          },
          "base_uri": "https://localhost:8080/",
          "height": 89
        }
      },
      "source": [
        "from google.colab import files\n",
        "uploaded = files.upload()"
      ],
      "execution_count": null,
      "outputs": [
        {
          "output_type": "display_data",
          "data": {
            "text/html": [
              "\n",
              "     <input type=\"file\" id=\"files-9bf05492-bfdd-46c3-991f-2bb668e75f71\" name=\"files[]\" multiple disabled\n",
              "        style=\"border:none\" />\n",
              "     <output id=\"result-9bf05492-bfdd-46c3-991f-2bb668e75f71\">\n",
              "      Upload widget is only available when the cell has been executed in the\n",
              "      current browser session. Please rerun this cell to enable.\n",
              "      </output>\n",
              "      <script src=\"/nbextensions/google.colab/files.js\"></script> "
            ],
            "text/plain": [
              "<IPython.core.display.HTML object>"
            ]
          },
          "metadata": {
            "tags": []
          }
        },
        {
          "output_type": "stream",
          "text": [
            "Saving trading_data.xlsx to trading_data.xlsx\n"
          ],
          "name": "stdout"
        }
      ]
    },
    {
      "cell_type": "code",
      "metadata": {
        "id": "ZG8mq7DH3Sdk"
      },
      "source": [
        "from pandas import read_excel\n",
        "df = read_excel('trading_data.xlsx')\n",
        "\n",
        "PVt= df['pv'].values\n",
        "PLt = df['load'].values\n",
        "GTt = df['gt'].values"
      ],
      "execution_count": null,
      "outputs": []
    },
    {
      "cell_type": "code",
      "metadata": {
        "id": "WU5QDB1kwZ_z",
        "outputId": "a483fa33-e0a0-45ad-a456-8716813a3c2f",
        "colab": {
          "base_uri": "https://localhost:8080/"
        }
      },
      "source": [
        "import numpy as np\n",
        "import matplotlib.pyplot as plt\n",
        "from matplotlib.collections import LineCollection\n",
        "from math import exp\n",
        "\n",
        "# defines the reward/connection graph\n",
        "Q = np.array(np.zeros([24, 10]))          # Q value \n",
        "R = np.array(np.zeros([24, 10]))          # Reward\n",
        "C = np.array(np.zeros([24, 10]))          # Total Cost\n",
        "Cost = []\n",
        "\n",
        "\n",
        "def action_space(action): #action space\n",
        "  if action==0:\n",
        "    soe = 10\n",
        "  if action==1: \n",
        "    soe = 20   \n",
        "  if action==2:\n",
        "    soe = 30    \n",
        "  if action==3:\n",
        "    soe =40    \n",
        "  if action==4:\n",
        "    soe = 50    \n",
        "  if action==5:\n",
        "    soe = 60    \n",
        "  if action==6:\n",
        "    soe =70    \n",
        "  if action==7:\n",
        "    soe =80    \n",
        "  if action==8:\n",
        "    soe = 90    \n",
        "  if action==9:\n",
        "    soe = 100\n",
        "  return soe\n",
        "\n",
        "  \n",
        "def update_q(state, next_state, action, alpha, gamma, STT, ACT):\n",
        "    Pbss = STT[4] - ACT # ACT is the SOE\n",
        "    Pg = (STT[1]-STT[2]) - Pbss\n",
        "    Cg = STT[3]*Pg\n",
        "    Cbd = bat_cost(ACT, Pbss, STT[4])\n",
        "    Cbss = Pbss*Cbd\n",
        "    C[state, action]  =  Cg + Cbss\n",
        "    rsa = 1/(Cg +Cbss +1)\n",
        "    R[state, action] = rsa\n",
        "    qsa = Q[state, action]\n",
        "    new_Q = qsa + alpha * ((rsa + gamma * max(Q[next_state, :])) - qsa)\n",
        "    Q[state, action] = new_Q\n",
        "    # renormalize row to be between 0 and 1\n",
        "    rn = Q[state][Q[state] > 0] / np.sum(Q[state][Q[state] > 0])\n",
        "    Q[state][Q[state] > 0] = rn\n",
        "    Cost.append(Cg+Cbd)\n",
        "    return R[state, action], Pg, Pbss\n",
        "\n",
        "def bat_cost(SOE, Pb,SOE_1):\n",
        "  #Variables \n",
        "  D = 100                               # (kwh) battery full capacity\n",
        "  Tamb = 23                            #ambient temperature\n",
        "  Rth = 0.0002                          # battery thermal resistance\n",
        "\n",
        "  # model parameters (obtained by curve fitting)\n",
        "  a = 1.1434       \n",
        "  b = 48.808       \n",
        "  m = 3.185\n",
        "  d = 0.0768\n",
        "\n",
        "  Yhr = 8760                           # hours per year\n",
        "  Cbat = 200                           # initial battery cost \n",
        "\n",
        "  SOCmin = 0.1                         #minimum battery soc\n",
        "  SOCmax = 0.9                         #maximum battery soc \n",
        "  SOCinit = 0.5                        #initial battery soc\n",
        "  Pbmin = -75                          #minimium battery power discharge\n",
        "  Pbmax = 75                           #maximum battery power charge\n",
        "  Pgmin = -100                          #maximum power fed to the grid\n",
        "  Pgmax = 150                           #minimum power fed to the grid \n",
        "  dt = 1                                # 1 hour time intervals\n",
        "\n",
        "  #SYSTEM DYNAMICS\n",
        "  T = Tamb + Rth*abs(Pb)                          # battery temperature \n",
        "  L = a*exp(b/T)                             # battery lifetime \n",
        "  SOCavg = SOE/100                               # average SOC ?what is the avg. soc\n",
        "  DOD = 1 - SOCavg\n",
        "  Ctemp = Cbat*dt/(Yhr*L)                         # Temperature operation cost\n",
        "  Csoc = (Cbat*m*SOCavg-d)/(15*0.2*Yhr)           # Cost due to avgSOC \n",
        "  Cdod = (-0.012*DOD**4) + (0.033*DOD**3) + (0.021*DOD**2) - (0.056*DOD) # cost due to dod\n",
        "  Cbd = max(Ctemp, Cdod, Csoc)                    # total battery degradation cost \n",
        "  return Cbd\n",
        "\n",
        "\n",
        "\n",
        "# Core algorithm\n",
        "gamma = 0.99\n",
        "alpha = 0.001\n",
        "n_episodes = 10E3\n",
        "n_states = 24\n",
        "n_actions = 10\n",
        "epsilon = 1\n",
        "decay = 0.999\n",
        "p = 1 - epsilon    # probability used for greedy method \n",
        "states = [0,0,0,0,0,0,0,0,0,0,0,0,0,0,0,0,0,0,0,0,0,0,0,0]\n",
        "act = [0,1,2,3,4,5,6,7,8,9]\n",
        "PGg =    [0,0,0,0,0,0,0,0,0,0,0,0,0,0,0,0,0,0,0,0,0,0,0,0]\n",
        "PBb =    [0,0,0,0,0,0,0,0,0,0,0,0,0,0,0,0,0,0,0,0,0,0,0,0]\n",
        "for e in range(int(n_episodes)):\n",
        "\n",
        "    # current_state = [0, Plt[0], Ppvt[0], Gt[0], Eb]\n",
        "    # states.append(current_state)\n",
        "\n",
        "    k = 0 \n",
        "    pg = 0\n",
        "    pb = 0\n",
        "    while k <= 23:\n",
        "        if k == 0:\n",
        "          current_state = [k, PLt[k], PVt[k], GTt[k], 50]\n",
        "        else:\n",
        "          current_state = current_state\n",
        "\n",
        "        states[k] = (current_state)\n",
        "        PGg[k] = pg\n",
        "        PBb[k] = pb\n",
        "        # epsilon greedy\n",
        "        p = 1-epsilon\n",
        "\n",
        "        if p < epsilon:\n",
        "          act = np.random.randint(0, 9)\n",
        "          action = action_space(act)\n",
        "        else:\n",
        "          act = np.argmax(Q[k])\n",
        "          action = action_space(act)\n",
        "\n",
        "        # Cbd = 1                   # battery degradation cost\n",
        "        # action = PLt[k] - PVt[k]\n",
        "        # act[k] = action\n",
        "        if k < 23: \n",
        "          reward, pg, pb = update_q(k, k+1, act, alpha, gamma, current_state, action)\n",
        "          next_state = [k+1, PLt[k+1], PVt[k+1], GTt[k+1],action]\n",
        "          current_state = next_state\n",
        "        else:\n",
        "          current_state = current_state\n",
        "          pg = pg\n",
        "          pb = pb\n",
        "\n",
        "        k = k+1\n",
        "\n",
        "    epsilon = max(0.1, decay*epsilon)\n",
        "\n",
        "print(states)\n",
        "print(PGg)\n",
        "print(PBb)"
      ],
      "execution_count": null,
      "outputs": [
        {
          "output_type": "stream",
          "text": [
            "[[0, 4.67229760398231, 0.15405369172268, 0.0503287611, 50], [1, 0.555466745186294, 0.369655689674999, 0.041195505800000004, 60], [2, 10.0462999245859, -0.0157323452691571, 0.0655712726, 90], [3, 20.432643175396, 0.373265469844085, 0.07665286290000001, 60], [4, 39.746655411696, 0.369686236780211, 0.10528735460000001, 90], [5, 55.6894389606573, 1.09070137335916, 0.029038378400000002, 10], [6, 96.9837742982538, 5.990881138258, 0.08771807620000001, 80], [7, 74.2735287342808, 19.503647525042, 0.1378703991, 20], [8, 40.1656244709645, 34.9660273489275, 0.1364345105, 60], [9, 21.0254549922689, 46.7532947535645, 0.17969784590000001, 50], [10, 57.8629856948504, 59.8239234200317, 0.24198016590000002, 10], [11, 39.6269747829417, 33.093052446633, 0.2065616465, 70], [12, 20.1406975511381, 42.7768835162195, 0.2114097812, 80], [13, 10.1737153976192, 48.9994413563005, 0.1854631847, 50], [14, 20.3666052809042, 43.2687483322401, 0.1938450844, 30], [15, 44.4058525100308, 36.8594382961988, 0.1584966985, 90], [16, 54.5424382920131, 23.8824383788859, 0.1627267424, 80], [17, 63.804525439563, 10.3266737571854, 0.20741458980000002, 90], [18, 78.3308881611646, 4.2066562084334, 0.1846514842, 60], [19, 54.63320680319, 0.870457515241639, 0.1904593636, 40], [20, 20.8453088487754, 0.368456429191098, 0.21633474230000002, 70], [21, 15.0158842045395, 0.36961814106354, 0.23773039640000002, 60], [22, 10.3816442393924, 0.369659296641344, 0.23558674329999998, 60], [23, 5.01930501930502, 0.386100386100366, 0.16299654749999998, 80]]\n",
            "[0, 14.51824391225963, 30.185811055511294, -19.93796773014494, 50.05937770555191, -40.623030825084214, 124.59873758729813, 30.992893159995802, 94.7698812092388, -4.800402877962995, -65.7278397612956, 58.039062274818704, 16.5339223363087, -52.636185965081395, -58.8257259586813, 37.0978569486641, -2.4535857861680057, 40.6599999131272, 23.477851682377604, 54.12423195273119, 83.76274928794837, 10.4768524195843, 14.64626606347596, 30.011984942751056]\n",
            "[0, -10, -30, 30, -30, 80, -70, 60, -40, 10, 40, -60, -10, 30, 20, -60, 10, -10, 30, 20, -30, 10, 0, -20]\n"
          ],
          "name": "stdout"
        }
      ]
    },
    {
      "cell_type": "code",
      "metadata": {
        "id": "kkhct2hSPZEr",
        "outputId": "2a0a38a8-a375-4176-8b64-20a1c9e871c3",
        "colab": {
          "base_uri": "https://localhost:8080/"
        }
      },
      "source": [
        "#Grid costs\n",
        "cost = 0\n",
        "for i in range(len(PGg)):\n",
        "  cost += GTt[i]*PGg[i]\n",
        "\n",
        "print(cost)"
      ],
      "execution_count": null,
      "outputs": [
        {
          "output_type": "stream",
          "text": [
            "68.33557723364662\n"
          ],
          "name": "stdout"
        }
      ]
    },
    {
      "cell_type": "code",
      "metadata": {
        "id": "Wp3kcGnOxkNA",
        "outputId": "d15bb440-8c7b-40d6-8345-d9cad92582ad",
        "colab": {
          "base_uri": "https://localhost:8080/"
        }
      },
      "source": [
        "#Battery lifetime\n",
        "from math import exp\n",
        "Pb = PBb \n",
        "L=0\n",
        "for i in range(24):\n",
        "  T = 23+ 0.0002*abs(Pb[i])*1000\n",
        "  L += 1.434*exp(48.808/T)\n",
        "L = L/24\n",
        "print(L)"
      ],
      "execution_count": null,
      "outputs": [
        {
          "output_type": "stream",
          "text": [
            "8.277680675837411\n"
          ],
          "name": "stdout"
        }
      ]
    }
  ]
}